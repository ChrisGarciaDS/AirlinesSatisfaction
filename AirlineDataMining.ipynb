{
 "cells": [
  {
   "cell_type": "markdown",
   "id": "6a7db7ec",
   "metadata": {},
   "source": [
    "# Airlines Customer Satisfaction\n",
    "\n",
    "**Team 4**: Christopher Garcia, Dennis\tMyasnyankin, Grigor\tTashchyan \n",
    "\n",
    "**Date**: October 17, 2022\n",
    "\n",
    "Objective? Maybe skip this"
   ]
  },
  {
   "cell_type": "code",
   "execution_count": 4,
   "id": "a88de41d",
   "metadata": {},
   "outputs": [
    {
     "name": "stdout",
     "output_type": "stream",
     "text": [
      "Collecting dmba\n",
      "  Downloading dmba-0.1.0-py3-none-any.whl (11.8 MB)\n",
      "\u001b[K     |████████████████████████████████| 11.8 MB 3.1 MB/s eta 0:00:01\n",
      "\u001b[?25hInstalling collected packages: dmba\n",
      "Successfully installed dmba-0.1.0\n"
     ]
    }
   ],
   "source": [
    "# Testing installs\n",
    "!pip install dmba"
   ]
  },
  {
   "cell_type": "code",
   "execution_count": 6,
   "id": "370989ea",
   "metadata": {},
   "outputs": [],
   "source": [
    "# Load required packages/libraries\n",
    "import pandas as pd\n",
    "import numpy as np\n",
    "import matplotlib.pyplot as plt\n",
    "%matplotlib inline\n",
    "plt.style.use('ggplot')\n",
    "from dmba import liftChart"
   ]
  },
  {
   "cell_type": "code",
   "execution_count": null,
   "id": "029a3009",
   "metadata": {},
   "outputs": [],
   "source": [
    "# Load and import both training and test sets\n",
    "train_data = ''\n",
    "test_data = ''"
   ]
  }
 ],
 "metadata": {
  "kernelspec": {
   "display_name": "Python 3 (ipykernel)",
   "language": "python",
   "name": "python3"
  },
  "language_info": {
   "codemirror_mode": {
    "name": "ipython",
    "version": 3
   },
   "file_extension": ".py",
   "mimetype": "text/x-python",
   "name": "python",
   "nbconvert_exporter": "python",
   "pygments_lexer": "ipython3",
   "version": "3.9.7"
  }
 },
 "nbformat": 4,
 "nbformat_minor": 5
}
